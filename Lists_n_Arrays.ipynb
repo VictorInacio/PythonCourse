{
 "cells": [
  {
   "cell_type": "markdown",
   "metadata": {},
   "source": [
    "# Lists"
   ]
  },
  {
   "cell_type": "code",
   "execution_count": null,
   "metadata": {},
   "outputs": [],
   "source": [
    "# Creating a list\n",
    "my_list = [1, 'hello', 3.14, [2, 4]]"
   ]
  },
  {
   "cell_type": "code",
   "execution_count": null,
   "metadata": {},
   "outputs": [
    {
     "data": {
      "text/plain": [
       "list"
      ]
     },
     "execution_count": 10,
     "metadata": {},
     "output_type": "execute_result"
    }
   ],
   "source": [
    "# type([])\n",
    "# type(my_list)"
   ]
  },
  {
   "cell_type": "code",
   "execution_count": null,
   "metadata": {},
   "outputs": [],
   "source": [
    "# Accessing and modifying\n",
    "print(my_list[1])   # Output: 'hello'\n",
    "my_list[0] = 100    # Updates first element to 100"
   ]
  },
  {
   "cell_type": "markdown",
   "metadata": {},
   "source": [
    "# Arrays"
   ]
  },
  {
   "cell_type": "code",
   "execution_count": 6,
   "metadata": {},
   "outputs": [],
   "source": [
    "# ! pip install numpy\n",
    "import numpy as np"
   ]
  },
  {
   "cell_type": "code",
   "execution_count": null,
   "metadata": {},
   "outputs": [],
   "source": [
    "\n",
    "# Creating a NumPy array\n",
    "np_array = np.array([1, 2, 3, 4])\n",
    "\n",
    "# Arithmetic operations (element-wise)\n",
    "print(np_array + 10)  # Output: [11 12 13 14]\n",
    "\n",
    "# Multidimensional arrays\n",
    "matrix = np.array([[1, 2], [3, 4]])\n",
    "print(matrix[1, 1])  # Output: 4\n"
   ]
  },
  {
   "cell_type": "markdown",
   "metadata": {},
   "source": [
    "# List Comprehension in Python"
   ]
  },
  {
   "cell_type": "code",
   "execution_count": null,
   "metadata": {},
   "outputs": [],
   "source": [
    "[expression for item in iterable if condition]"
   ]
  },
  {
   "cell_type": "code",
   "execution_count": null,
   "metadata": {},
   "outputs": [],
   "source": [
    "# Squares of numbers from 1 to 5\n",
    "squares = [x**2 for x in range(1, 6)]\n",
    "print(squares)  # Output: [1, 4, 9, 16, 25]"
   ]
  },
  {
   "cell_type": "code",
   "execution_count": null,
   "metadata": {},
   "outputs": [],
   "source": [
    "# Even numbers from 1 to 10\n",
    "evens = [x for x in range(1, 11) if x % 2 == 0]\n",
    "print(evens)  # Output: [2, 4, 6, 8, 10]"
   ]
  },
  {
   "cell_type": "code",
   "execution_count": null,
   "metadata": {},
   "outputs": [],
   "source": [
    "# Flattening a 2D list\n",
    "matrix = [[1, 2], [3, 4], [5, 6]]\n",
    "flat = [num for row in matrix for num in row]\n",
    "print(flat)  # Output: [1, 2, 3, 4, 5, 6]"
   ]
  },
  {
   "cell_type": "markdown",
   "metadata": {},
   "source": []
  },
  {
   "cell_type": "code",
   "execution_count": null,
   "metadata": {},
   "outputs": [],
   "source": [
    "# Creating arrays\n",
    "array1 = np.array([1, 2, 3, 4])  # 1D array\n",
    "array2 = np.array([[1, 2], [3, 4]])  # 2D array\n",
    "\n",
    "print(array1)  # Output: [1 2 3 4]\n",
    "print(array2)\n",
    "# Output:\n",
    "# [[1 2]\n",
    "#  [3 4]]"
   ]
  },
  {
   "cell_type": "code",
   "execution_count": null,
   "metadata": {},
   "outputs": [],
   "source": [
    "a = np.array([1, 2, 3])\n",
    "b = np.array([4, 5, 6])\n",
    "\n",
    "# Addition\n",
    "print(a + b)  # Output: [5 7 9]\n",
    "\n",
    "# Multiplication\n",
    "print(a * b)  # Output: [4 10 18]\n",
    "\n",
    "# Scalar multiplication\n",
    "print(a * 2)  # Output: [2 4 6]"
   ]
  },
  {
   "cell_type": "code",
   "execution_count": null,
   "metadata": {},
   "outputs": [],
   "source": [
    "data = np.array([1, 2, 3, 4, 5])\n",
    "\n",
    "# Mean\n",
    "print(np.mean(data))  # Output: 3.0\n",
    "\n",
    "# Sum\n",
    "print(np.sum(data))  # Output: 15\n",
    "\n",
    "# Standard deviation\n",
    "print(np.std(data))  # Output: 1.4142135623730951"
   ]
  },
  {
   "cell_type": "code",
   "execution_count": null,
   "metadata": {},
   "outputs": [],
   "source": [
    "# Slicing\n",
    "array = np.array([10, 20, 30, 40, 50])\n",
    "print(array[1:4])  # Output: [20 30 40]\n",
    "\n",
    "# Multidimensional indexing\n",
    "matrix = np.array([[1, 2], [3, 4], [5, 6]])\n",
    "print(matrix[1, 1])  # Output: 4  (second row, second column)\n",
    "print(matrix[:, 0])  # Output: [1 3 5] (first column)"
   ]
  },
  {
   "cell_type": "code",
   "execution_count": null,
   "metadata": {},
   "outputs": [],
   "source": [
    "a = np.array([[1, 2], [3, 4]])\n",
    "b = np.array([10, 20])\n",
    "\n",
    "# Add b to each row of a\n",
    "print(a + b)\n",
    "# Output:\n",
    "# [[11 22]\n",
    "#  [13 24]]"
   ]
  },
  {
   "cell_type": "code",
   "execution_count": null,
   "metadata": {},
   "outputs": [],
   "source": [
    "# Reshape\n",
    "arr = np.array([1, 2, 3, 4, 5, 6])\n",
    "reshaped = arr.reshape(2, 3)\n",
    "print(reshaped)\n",
    "# Output:\n",
    "# [[1 2 3]\n",
    "#  [4 5 6]]\n",
    "\n",
    "# Transpose\n",
    "matrix = np.array([[1, 2], [3, 4]])\n",
    "print(matrix.T)\n",
    "# Output:\n",
    "# [[1 3]\n",
    "#  [2 4]]"
   ]
  },
  {
   "cell_type": "code",
   "execution_count": null,
   "metadata": {},
   "outputs": [],
   "source": [
    "# List of known malicious IPs\n",
    "malicious_ips = ['192.168.1.1', '10.0.0.1', '203.0.113.5']\n",
    "\n",
    "# Example incoming connection logs\n",
    "connection_logs = [\n",
    "    '192.168.1.1',\n",
    "    '172.16.0.2',\n",
    "    '203.0.113.5',\n",
    "    '8.8.8.8'\n",
    "]\n",
    "\n",
    "# Check if any IP in the logs is malicious\n",
    "detected_ips = [ip for ip in connection_logs if ip in malicious_ips]\n",
    "print(\"Detected Malicious IPs:\", detected_ips)\n",
    "# Output: Detected Malicious IPs: ['192.168.1.1', '203.0.113.5']"
   ]
  },
  {
   "cell_type": "code",
   "execution_count": null,
   "metadata": {},
   "outputs": [],
   "source": [
    "import numpy as np\n",
    "\n",
    "# Example packet sizes (in bytes) from network traffic\n",
    "packet_sizes = np.array([150, 200, 180, 170, 10000, 160, 190])\n",
    "\n",
    "# Calculate statistics\n",
    "mean_size = np.mean(packet_sizes)\n",
    "std_dev = np.std(packet_sizes)\n",
    "\n",
    "# Flag packets that deviate significantly from the mean\n",
    "anomalies = packet_sizes[np.abs(packet_sizes - mean_size) > 3 * std_dev]\n",
    "print(\"Anomalous Packet Sizes:\", anomalies)\n",
    "# Output: Anomalous Packet Sizes: [10000]"
   ]
  },
  {
   "cell_type": "code",
   "execution_count": null,
   "metadata": {},
   "outputs": [],
   "source": [
    "# Example text data\n",
    "text = \"Artificial Intelligence is transforming cybersecurity.\"\n",
    "\n",
    "# Tokenize text into words\n",
    "tokens = [word.lower() for word in text.split()]\n",
    "print(\"Tokens:\", tokens)\n",
    "# Output: Tokens: ['artificial', 'intelligence', 'is', 'transforming', 'cybersecurity']"
   ]
  },
  {
   "cell_type": "code",
   "execution_count": null,
   "metadata": {},
   "outputs": [],
   "source": [
    "# Input layer (features)\n",
    "inputs = np.array([0.5, 1.5])\n",
    "\n",
    "# Weights for a hidden layer\n",
    "weights = np.array([[0.2, 0.8], [0.5, 0.1]])\n",
    "\n",
    "# Biases\n",
    "biases = np.array([0.1, 0.2])\n",
    "\n",
    "# Compute hidden layer outputs: (inputs * weights) + biases\n",
    "outputs = np.dot(inputs, weights) + biases\n",
    "print(\"Hidden Layer Outputs:\", outputs)\n",
    "# Output: Hidden Layer Outputs: [0.85 0.95]"
   ]
  }
 ],
 "metadata": {
  "kernelspec": {
   "display_name": "base",
   "language": "python",
   "name": "python3"
  },
  "language_info": {
   "codemirror_mode": {
    "name": "ipython",
    "version": 3
   },
   "file_extension": ".py",
   "mimetype": "text/x-python",
   "name": "python",
   "nbconvert_exporter": "python",
   "pygments_lexer": "ipython3",
   "version": "3.10.9"
  }
 },
 "nbformat": 4,
 "nbformat_minor": 2
}
